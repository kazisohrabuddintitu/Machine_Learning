{
  "nbformat": 4,
  "nbformat_minor": 0,
  "metadata": {
    "colab": {
      "provenance": []
    },
    "kernelspec": {
      "name": "python3",
      "display_name": "Python 3"
    },
    "language_info": {
      "name": "python"
    }
  },
  "cells": [
    {
      "cell_type": "code",
      "execution_count": 4,
      "metadata": {
        "colab": {
          "base_uri": "https://localhost:8080/"
        },
        "id": "j_1zQ7uPeWvF",
        "outputId": "5d0a0617-f670-4d06-b0fc-438130c30031"
      },
      "outputs": [
        {
          "output_type": "stream",
          "name": "stdout",
          "text": [
            "Epoch 1/10\n",
            "938/938 [==============================] - 34s 36ms/step - loss: 0.2725 - accuracy: 0.9220 - val_loss: 0.1203 - val_accuracy: 0.9648\n",
            "Epoch 2/10\n",
            "938/938 [==============================] - 33s 35ms/step - loss: 0.0999 - accuracy: 0.9718 - val_loss: 0.0751 - val_accuracy: 0.9769\n",
            "Epoch 3/10\n",
            "938/938 [==============================] - 34s 36ms/step - loss: 0.0713 - accuracy: 0.9793 - val_loss: 0.0685 - val_accuracy: 0.9799\n",
            "Epoch 4/10\n",
            "938/938 [==============================] - 32s 34ms/step - loss: 0.0587 - accuracy: 0.9828 - val_loss: 0.0643 - val_accuracy: 0.9797\n",
            "Epoch 5/10\n",
            "938/938 [==============================] - 33s 36ms/step - loss: 0.0504 - accuracy: 0.9851 - val_loss: 0.0566 - val_accuracy: 0.9815\n",
            "Epoch 6/10\n",
            "938/938 [==============================] - 32s 34ms/step - loss: 0.0448 - accuracy: 0.9866 - val_loss: 0.0565 - val_accuracy: 0.9817\n",
            "Epoch 7/10\n",
            "938/938 [==============================] - 32s 35ms/step - loss: 0.0391 - accuracy: 0.9886 - val_loss: 0.0596 - val_accuracy: 0.9816\n",
            "Epoch 8/10\n",
            "938/938 [==============================] - 31s 33ms/step - loss: 0.0352 - accuracy: 0.9894 - val_loss: 0.0548 - val_accuracy: 0.9832\n",
            "Epoch 9/10\n",
            "938/938 [==============================] - 32s 34ms/step - loss: 0.0319 - accuracy: 0.9904 - val_loss: 0.0607 - val_accuracy: 0.9801\n",
            "Epoch 10/10\n",
            "938/938 [==============================] - 33s 35ms/step - loss: 0.0281 - accuracy: 0.9917 - val_loss: 0.0616 - val_accuracy: 0.9801\n"
          ]
        }
      ],
      "source": [
        "import tensorflow as tf\n",
        "from tensorflow import keras\n",
        "from tensorflow.keras import layers\n",
        "from tensorflow.keras.callbacks import TensorBoard\n",
        "import matplotlib.pyplot as plt\n",
        "\n",
        "# Load the MNIST dataset\n",
        "(x_train, y_train), (x_test, y_test) = keras.datasets.mnist.load_data()\n",
        "\n",
        "# Preprocess the data\n",
        "x_train = x_train.reshape(-1, 28, 28, 1).astype(\"float32\") / 255.0\n",
        "x_test = x_test.reshape(-1, 28, 28, 1).astype(\"float32\") / 255.0\n",
        "\n",
        "# Define the model\n",
        "model = keras.Sequential([\n",
        "    layers.Conv2D(32, (3, 3), activation=\"relu\", input_shape=(28, 28, 1)),\n",
        "    layers.MaxPooling2D((2, 2)),\n",
        "    layers.Flatten(),\n",
        "    layers.Dense(10, activation=\"softmax\")\n",
        "])\n",
        "\n",
        "# Compile the model\n",
        "model.compile(optimizer=\"adam\", loss=\"sparse_categorical_crossentropy\", metrics=[\"accuracy\"])\n",
        "\n",
        "# Define the TensorBoard callback\n",
        "log_dir = \"./logs\"\n",
        "tensorboard_callback = TensorBoard(log_dir=log_dir, histogram_freq=1)\n",
        "\n",
        "# Train the model with TensorBoard callback\n",
        "history = model.fit(x_train, y_train, batch_size=64, epochs=10, validation_data=(x_test, y_test), callbacks=[tensorboard_callback])\n"
      ]
    },
    {
      "cell_type": "code",
      "source": [
        "## Ploting the loss"
      ],
      "metadata": {
        "id": "xdBWlXAnTcVL"
      },
      "execution_count": 2,
      "outputs": []
    },
    {
      "cell_type": "code",
      "source": [
        "import numpy as np\n",
        "import matplotlib.pyplot as plt\n",
        "plt.plot(np.arange(1,11), history.history['loss'])"
      ],
      "metadata": {
        "colab": {
          "base_uri": "https://localhost:8080/",
          "height": 447
        },
        "id": "aF7TMsQyS3t5",
        "outputId": "8ec2e268-d563-4119-d7b7-0304f10edd74"
      },
      "execution_count": 3,
      "outputs": [
        {
          "output_type": "execute_result",
          "data": {
            "text/plain": [
              "[<matplotlib.lines.Line2D at 0x7efe3dce2260>]"
            ]
          },
          "metadata": {},
          "execution_count": 3
        },
        {
          "output_type": "display_data",
          "data": {
            "text/plain": [
              "<Figure size 640x480 with 1 Axes>"
            ],
            "image/png": "[encoded data removed]"
          },
          "metadata": {}
        }
      ]
    }
  ]
}