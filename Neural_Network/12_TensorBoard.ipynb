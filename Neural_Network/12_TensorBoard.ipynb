{
 "cells": [
  {
   "cell_type": "markdown",
   "id": "e18afbb1",
   "metadata": {},
   "source": [
    "## Using TensorBoard"
   ]
  },
  {
   "cell_type": "code",
   "execution_count": 7,
   "id": "41a69a14",
   "metadata": {},
   "outputs": [
    {
     "name": "stdout",
     "output_type": "stream",
     "text": [
      "Epoch 1/10\n",
      "938/938 [==============================] - 5s 5ms/step - loss: 0.2697 - accuracy: 0.9246 - val_loss: 0.1107 - val_accuracy: 0.9685\n",
      "Epoch 2/10\n",
      "938/938 [==============================] - 5s 5ms/step - loss: 0.0928 - accuracy: 0.9733 - val_loss: 0.0863 - val_accuracy: 0.9737\n",
      "Epoch 3/10\n",
      "938/938 [==============================] - 5s 5ms/step - loss: 0.0683 - accuracy: 0.9803 - val_loss: 0.0683 - val_accuracy: 0.9782\n",
      "Epoch 4/10\n",
      "938/938 [==============================] - 5s 5ms/step - loss: 0.0566 - accuracy: 0.9836 - val_loss: 0.0570 - val_accuracy: 0.9817\n",
      "Epoch 5/10\n",
      "938/938 [==============================] - 5s 5ms/step - loss: 0.0489 - accuracy: 0.9860 - val_loss: 0.0586 - val_accuracy: 0.9815\n",
      "Epoch 6/10\n",
      "938/938 [==============================] - 5s 5ms/step - loss: 0.0443 - accuracy: 0.9865 - val_loss: 0.0545 - val_accuracy: 0.9829\n",
      "Epoch 7/10\n",
      "938/938 [==============================] - 5s 5ms/step - loss: 0.0387 - accuracy: 0.9886 - val_loss: 0.0563 - val_accuracy: 0.9818\n",
      "Epoch 8/10\n",
      "938/938 [==============================] - 5s 5ms/step - loss: 0.0354 - accuracy: 0.9895 - val_loss: 0.0587 - val_accuracy: 0.9822\n",
      "Epoch 9/10\n",
      "938/938 [==============================] - 5s 5ms/step - loss: 0.0308 - accuracy: 0.9909 - val_loss: 0.0529 - val_accuracy: 0.9835\n",
      "Epoch 10/10\n",
      "938/938 [==============================] - 5s 5ms/step - loss: 0.0281 - accuracy: 0.9917 - val_loss: 0.0561 - val_accuracy: 0.9832\n"
     ]
    }
   ],
   "source": [
    "import tensorflow as tf\n",
    "from tensorflow import keras\n",
    "from tensorflow.keras import layers\n",
    "from tensorflow.keras.callbacks import TensorBoard\n",
    "import matplotlib.pyplot as plt\n",
    "\n",
    "# Load the MNIST dataset\n",
    "(x_train, y_train), (x_test, y_test) = keras.datasets.mnist.load_data()\n",
    "\n",
    "# Preprocess the data\n",
    "x_train = x_train.reshape(-1, 28, 28, 1).astype(\"float32\") / 255.0\n",
    "x_test = x_test.reshape(-1, 28, 28, 1).astype(\"float32\") / 255.0\n",
    "\n",
    "# Define the model\n",
    "model = keras.Sequential([\n",
    "    layers.Conv2D(32, (3, 3), activation=\"relu\", input_shape=(28, 28, 1)),\n",
    "    layers.MaxPooling2D((2, 2)),\n",
    "    layers.Flatten(),\n",
    "    layers.Dense(10, activation=\"softmax\")\n",
    "])\n",
    "\n",
    "# Compile the model\n",
    "model.compile(optimizer=\"adam\", loss=\"sparse_categorical_crossentropy\", metrics=[\"accuracy\"])\n",
    "\n",
    "# Clear any existing TensorBoard logs\n",
    "!rm -rf ./logs/\n",
    "\n",
    "# Define the TensorBoard callback\n",
    "log_dir = \"./logs\"\n",
    "tensorboard_callback = TensorBoard(log_dir=log_dir)\n",
    "\n",
    "# Train the model with TensorBoard callback\n",
    "history = model.fit(x_train, y_train, batch_size=64, epochs=10, validation_data=(x_test, y_test), callbacks=[tensorboard_callback])\n"
   ]
  },
  {
   "cell_type": "markdown",
   "id": "73f1ff39",
   "metadata": {},
   "source": [
    "## Opening TensorBoard from ./logs "
   ]
  },
  {
   "cell_type": "code",
   "execution_count": 8,
   "id": "82dd1dd9",
   "metadata": {},
   "outputs": [
    {
     "data": {
      "text/html": [
       "\n",
       "      <iframe id=\"tensorboard-frame-6c7ce6bf022a9c52\" width=\"100%\" height=\"800\" frameborder=\"0\">\n",
       "      </iframe>\n",
       "      <script>\n",
       "        (function() {\n",
       "          const frame = document.getElementById(\"tensorboard-frame-6c7ce6bf022a9c52\");\n",
       "          const url = new URL(\"/\", window.location);\n",
       "          const port = 6006;\n",
       "          if (port) {\n",
       "            url.port = port;\n",
       "          }\n",
       "          frame.src = url;\n",
       "        })();\n",
       "      </script>\n",
       "    "
      ],
      "text/plain": [
       "<IPython.core.display.HTML object>"
      ]
     },
     "metadata": {},
     "output_type": "display_data"
    }
   ],
   "source": [
    "from tensorboard import notebook\n",
    "notebook.start(\"--logdir ./logs\")"
   ]
  },
  {
   "cell_type": "code",
   "execution_count": 9,
   "id": "3feeaeda",
   "metadata": {},
   "outputs": [
    {
     "data": {
      "text/plain": [
       "[<matplotlib.lines.Line2D at 0x7f9469fb46a0>]"
      ]
     },
     "execution_count": 9,
     "metadata": {},
     "output_type": "execute_result"
    },
    {
     "data": {
      "image/png": "[encoded data removed]",
      "text/plain": [
       "<Figure size 432x288 with 1 Axes>"
      ]
     },
     "metadata": {
      "needs_background": "light"
     },
     "output_type": "display_data"
    }
   ],
   "source": [
    "import numpy as np\n",
    "import matplotlib.pyplot as plt\n",
    "plt.plot(np.arange(1,11), history.history['loss'])"
   ]
  },
  {
   "cell_type": "code",
   "execution_count": null,
   "id": "b793b437",
   "metadata": {},
   "outputs": [],
   "source": []
  }
 ],
 "metadata": {
  "kernelspec": {
   "display_name": "Python 3 (ipykernel)",
   "language": "python",
   "name": "python3"
  },
  "language_info": {
   "codemirror_mode": {
    "name": "ipython",
    "version": 3
   },
   "file_extension": ".py",
   "mimetype": "text/x-python",
   "name": "python",
   "nbconvert_exporter": "python",
   "pygments_lexer": "ipython3",
   "version": "3.9.7"
  }
 },
 "nbformat": 4,
 "nbformat_minor": 5
}
